{
 "cells": [
  {
   "cell_type": "code",
   "execution_count": 4,
   "id": "4b4ddc11",
   "metadata": {},
   "outputs": [
    {
     "name": "stdout",
     "output_type": "stream",
     "text": [
      "Saved time-series CSV (not flattened across channels) to: G:\\Machine Learning\\Human Activity Recognition ESP32\\Dataset\\refined_dataset_for_use\\accelerometer_3axis_time_series_train.csv\n"
     ]
    }
   ],
   "source": [
    "import numpy as np\n",
    "import pandas as pd\n",
    "import os\n",
    "\n",
    "# === Set your desired save directory ===\n",
    "save_directory = r\"G:\\Machine Learning\\Human Activity Recognition ESP32\\Dataset\\refined_dataset_for_use\"\n",
    "\n",
    "# Load signals\n",
    "base_path = r\"G:\\Machine Learning\\Human Activity Recognition ESP32\\Dataset\\UCI HAR Dataset\\train\\Inertial Signals\"\n",
    "acc_x = np.loadtxt(base_path + r\"\\body_acc_x_train.txt\")\n",
    "acc_y = np.loadtxt(base_path + r\"\\body_acc_y_train.txt\")\n",
    "acc_z = np.loadtxt(base_path + r\"\\body_acc_z_train.txt\")\n",
    "\n",
    "# Concatenate axis-wise → shape: (7352, 384) but ordered by [x1..x128 | y1..y128 | z1..z128]\n",
    "acc_concatenated = np.concatenate([acc_x, acc_y, acc_z], axis=1)\n",
    "\n",
    "# Save to CSV\n",
    "output_csv_path = os.path.join(save_directory, \"accelerometer_3axis_time_series_train.csv\")\n",
    "pd.DataFrame(acc_concatenated).to_csv(output_csv_path, index=False)\n",
    "\n",
    "print(f\"Saved time-series CSV (not flattened across channels) to: {output_csv_path}\")"
   ]
  },
  {
   "cell_type": "code",
   "execution_count": 6,
   "id": "da8f61ef",
   "metadata": {},
   "outputs": [
    {
     "name": "stdout",
     "output_type": "stream",
     "text": [
      "Saved time-series CSV (not flattened across channels) to: G:\\Machine Learning\\Human Activity Recognition ESP32\\Dataset\\refined_dataset_for_use\\accelerometer_3axis_time_series_test.csv\n"
     ]
    }
   ],
   "source": [
    "import numpy as np\n",
    "import pandas as pd\n",
    "import os\n",
    "\n",
    "# === Set your desired save directory ===\n",
    "save_directory = r\"G:\\Machine Learning\\Human Activity Recognition ESP32\\Dataset\\refined_dataset_for_use\"\n",
    "\n",
    "# Load signals\n",
    "base_path = r\"G:\\Machine Learning\\Human Activity Recognition ESP32\\Dataset\\UCI HAR Dataset\\test\\Inertial Signals\"\n",
    "acc_x = np.loadtxt(base_path + r\"\\body_acc_x_test.txt\")\n",
    "acc_y = np.loadtxt(base_path + r\"\\body_acc_y_test.txt\")\n",
    "acc_z = np.loadtxt(base_path + r\"\\body_acc_z_test.txt\")\n",
    "\n",
    "# Concatenate axis-wise → shape: (7352, 384) but ordered by [x1..x128 | y1..y128 | z1..z128]\n",
    "acc_concatenated = np.concatenate([acc_x, acc_y, acc_z], axis=1)\n",
    "\n",
    "# Save to CSV\n",
    "output_csv_path = os.path.join(save_directory, \"accelerometer_3axis_time_series_test.csv\")\n",
    "pd.DataFrame(acc_concatenated).to_csv(output_csv_path, index=False)\n",
    "\n",
    "print(f\"Saved time-series CSV (not flattened across channels) to: {output_csv_path}\")"
   ]
  },
  {
   "cell_type": "code",
   "execution_count": 7,
   "id": "f7c88c96",
   "metadata": {},
   "outputs": [
    {
     "name": "stdout",
     "output_type": "stream",
     "text": [
      "Saved label CSVs to:\n",
      "- G:\\Machine Learning\\Human Activity Recognition ESP32\\Dataset\\refined_dataset_for_use\\accelerometer_labels_y_train.csv\n",
      "- G:\\Machine Learning\\Human Activity Recognition ESP32\\Dataset\\refined_dataset_for_use\\accelerometer_labels_y_test.csv\n"
     ]
    }
   ],
   "source": [
    "import numpy as np\n",
    "import pandas as pd\n",
    "import os\n",
    "\n",
    "# === Set your desired save directory ===\n",
    "save_directory = r\"G:\\Machine Learning\\Human Activity Recognition ESP32\\Dataset\\refined_dataset_for_use\"  # ← Replace with your actual path (e.g., \"./processed/\")\n",
    "\n",
    "# Ensure directory exists\n",
    "os.makedirs(save_directory, exist_ok=True)\n",
    "\n",
    "# === Load original label files ===\n",
    "y_train = np.loadtxt(r\"G:\\Machine Learning\\Human Activity Recognition ESP32\\Dataset\\UCI HAR Dataset\\train\\y_train.txt\").astype(int)\n",
    "y_test = np.loadtxt(r\"G:\\Machine Learning\\Human Activity Recognition ESP32\\Dataset\\UCI HAR Dataset\\test\\y_test.txt\").astype(int)\n",
    "\n",
    "# === Optional: convert to zero-based labels (0 to 5)\n",
    "y_train -= 1\n",
    "y_test -= 1\n",
    "\n",
    "# === Save as CSV files in specified directory ===\n",
    "train_csv_path = os.path.join(save_directory, \"accelerometer_labels_y_train.csv\")\n",
    "test_csv_path = os.path.join(save_directory, \"accelerometer_labels_y_test.csv\")\n",
    "\n",
    "pd.DataFrame(y_train, columns=[\"label\"]).to_csv(train_csv_path, index=False)\n",
    "pd.DataFrame(y_test, columns=[\"label\"]).to_csv(test_csv_path, index=False)\n",
    "\n",
    "print(f\"Saved label CSVs to:\\n- {train_csv_path}\\n- {test_csv_path}\")"
   ]
  }
 ],
 "metadata": {
  "kernelspec": {
   "display_name": "test",
   "language": "python",
   "name": "python3"
  },
  "language_info": {
   "codemirror_mode": {
    "name": "ipython",
    "version": 3
   },
   "file_extension": ".py",
   "mimetype": "text/x-python",
   "name": "python",
   "nbconvert_exporter": "python",
   "pygments_lexer": "ipython3",
   "version": "3.12.3"
  }
 },
 "nbformat": 4,
 "nbformat_minor": 5
}
